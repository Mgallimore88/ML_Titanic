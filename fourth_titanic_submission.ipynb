{
 "cells": [
  {
   "cell_type": "markdown",
   "metadata": {},
   "source": [
    "# Titanic competition quick entry creation\n",
    "\n",
    "Notebook for creating quick competition entries for the Titanic kaggle competition - this should be a concise way of training a model and outputting the csv files without the analysis carried out in the first two notebooks. "
   ]
  },
  {
   "cell_type": "markdown",
   "metadata": {},
   "source": [
    "This entry uses the full dataset with a separate validation set and removes some of the independent variables with very low contributions to the predictivity of the model.\n",
    "\n",
    "It also includes the early processing of the training set and removes the feature extraction where an extra column was added to indicate whether a passenger was married or not. "
   ]
  },
  {
   "cell_type": "code",
   "execution_count": 1,
   "metadata": {},
   "outputs": [],
   "source": [
    "%load_ext autoreload\n",
    "%autoreload 2"
   ]
  },
  {
   "cell_type": "code",
   "execution_count": 2,
   "metadata": {},
   "outputs": [],
   "source": [
    "%matplotlib inline\n",
    "\n",
    "from fastai.imports import *\n",
    "from fastai.structured import *\n",
    "from pandas_summary import DataFrameSummary\n",
    "from sklearn.ensemble import RandomForestRegressor, RandomForestClassifier\n",
    "from IPython.display import display\n",
    "from sklearn import metrics"
   ]
  },
  {
   "cell_type": "code",
   "execution_count": 3,
   "metadata": {},
   "outputs": [
    {
     "name": "stdout",
     "output_type": "stream",
     "text": [
      "keep_cols.npy\t     titanic_processed_df_tandv\r\n",
      "titanic_procdfd_raw  titanic_raw_cats\r\n"
     ]
    }
   ],
   "source": [
    "PATH = \"data/titanic\"\n",
    "!ls tmp"
   ]
  },
  {
   "cell_type": "code",
   "execution_count": 4,
   "metadata": {},
   "outputs": [],
   "source": [
    "\n",
    "PATH = \"data/titanic/\"\n",
    "df_raw = pd.read_csv(f'{PATH}train.csv', low_memory=False)\n"
   ]
  },
  {
   "cell_type": "markdown",
   "metadata": {},
   "source": [
    "## Functions"
   ]
  },
  {
   "cell_type": "code",
   "execution_count": 5,
   "metadata": {},
   "outputs": [],
   "source": [
    "def split_vals(a,n): \n",
    "    return a[:n].copy(), a[n:].copy()"
   ]
  },
  {
   "cell_type": "code",
   "execution_count": 6,
   "metadata": {},
   "outputs": [],
   "source": [
    "def rmse(pred,actual): return math.sqrt(((pred-actual)**2).mean())"
   ]
  },
  {
   "cell_type": "code",
   "execution_count": 7,
   "metadata": {},
   "outputs": [],
   "source": [
    "def print_score(m):\n",
    "    '''\n",
    "    Returns rmse and Rsquared scores on the training and validation sets,\n",
    "    and provides an out of bag score if present\n",
    "    '''\n",
    "    result = [f'rmse train: {rmse(m.predict(x_train), y_train)} Training set size: {len(y_train)}', \n",
    "              f'\\nrmse validation: {rmse(m.predict(x_valid), y_valid)} Validation set size: {len(y_valid)}',\n",
    "              f'\\nRsquared train: {m.score(x_train, y_train)}',\n",
    "              f'\\nRSquared valid: {m.score(x_valid, y_valid)}']\n",
    "    print(result[0], result[1], result[2], result[3])\n",
    "    if hasattr(m, 'oob_score_'):\n",
    "        result.append(f'OOB: {m.oob_score_}')\n",
    "        print(result[4])"
   ]
  },
  {
   "cell_type": "code",
   "execution_count": 8,
   "metadata": {},
   "outputs": [],
   "source": [
    "def custom_print_score(m, x_t, y_t):\n",
    "    '''\n",
    "    Allows use of the entire training set without separating out a validation set.\n",
    "    This could be useful where a very small dataset is used, so that the validation set is\n",
    "    not withheld from the training of the model. \n",
    "    Caution: A better solution might be to\n",
    "    use a validation set then re-train the model on the entire training + validation set \n",
    "    once the hyperparameters are tuned. \n",
    "    '''\n",
    "    result = [f'rmse train: {rmse(m.predict(x_t), y_t)} Total set size: {len(y_t)}', \n",
    "              f'\\nRsquared train: {m.score(x_t, y_t)}']\n",
    "    print(result[0], result[1])\n",
    "    if hasattr(m, 'oob_score_'):\n",
    "        result.append(f'OOB: {m.oob_score_}')\n",
    "        print(result[2])"
   ]
  },
  {
   "cell_type": "code",
   "execution_count": 9,
   "metadata": {},
   "outputs": [],
   "source": [
    "def display_all(df):\n",
    "    with pd.option_context(\"display.max_rows\", 1000, \n",
    "                           \"display.max_columns\", 1000):\n",
    "        display(df)"
   ]
  },
  {
   "cell_type": "code",
   "execution_count": 10,
   "metadata": {},
   "outputs": [],
   "source": [
    "def dectree_max_depth(tree):\n",
    "    children_left = tree.children_left\n",
    "    children_right = tree.children_right\n",
    "    \n",
    "\n",
    "    def walk(node_id):\n",
    "        if (children_left[node_id] != children_right[node_id]):\n",
    "            left_max = 1 + walk(children_left[node_id])\n",
    "            right_max = 1 + walk(children_right[node_id])\n",
    "            return max(left_max, right_max)\n",
    "        else: # leaf\n",
    "            return 1\n",
    "\n",
    "    root_node_id = 0\n",
    "    return walk(root_node_id)"
   ]
  },
  {
   "cell_type": "code",
   "execution_count": 11,
   "metadata": {},
   "outputs": [],
   "source": [
    "# puts the predict function in a parent \n",
    "# function so it can be passed to parallel \n",
    "# trees and use all 4 cpus\n",
    "def get_preds(t): \n",
    "    return t.predict(x_valid) \n"
   ]
  },
  {
   "cell_type": "markdown",
   "metadata": {},
   "source": [
    "## Train categories"
   ]
  },
  {
   "cell_type": "code",
   "execution_count": 12,
   "metadata": {},
   "outputs": [
    {
     "data": {
      "text/plain": [
       "Age            0.198653\n",
       "Cabin          0.771044\n",
       "Embarked       0.002245\n",
       "Fare           0.000000\n",
       "Name           0.000000\n",
       "Parch          0.000000\n",
       "PassengerId    0.000000\n",
       "Pclass         0.000000\n",
       "Sex            0.000000\n",
       "SibSp          0.000000\n",
       "Survived       0.000000\n",
       "Ticket         0.000000\n",
       "dtype: float64"
      ]
     },
     "metadata": {},
     "output_type": "display_data"
    }
   ],
   "source": [
    "train_cats(df_raw)\n",
    "os.makedirs('tmp', exist_ok=True)\n",
    "df_raw.to_feather('tmp/titanic_raw_cats')\n",
    "df_raw = pd.read_feather('tmp/titanic_raw_cats')\n",
    "\n",
    "#check for missing values:\n",
    "display_all(df_raw.isnull().sum().sort_index()/len(df_raw))"
   ]
  },
  {
   "cell_type": "markdown",
   "metadata": {},
   "source": [
    "### Hyperparameters"
   ]
  },
  {
   "cell_type": "code",
   "execution_count": 13,
   "metadata": {},
   "outputs": [],
   "source": [
    "set_rf_samples(700) # Number of passengers available to each tree \n",
    "# reset_rf_samples() # Set each tree to have access to all rows\n",
    "n_estimators = 400 # Number of trees/estimators in model\n",
    "min_samples_leaf = 3 # number remaining in each leaf node - average taken\n",
    "max_features = 0.6 # For each decision , proportion of independent variables available.\n",
    "max_n_cat = 5 # maximum number of categories to split categorical values into for one hot encoding.\n"
   ]
  },
  {
   "cell_type": "markdown",
   "metadata": {},
   "source": [
    "## Process dataframe \n",
    "handle missing continuous variables, replace categories with their numeric codes and split the dependent variable out into a separate dataframe. "
   ]
  },
  {
   "cell_type": "code",
   "execution_count": 14,
   "metadata": {},
   "outputs": [],
   "source": [
    "df, y, nas = proc_df(df_raw, 'Survived', max_n_cat=max_n_cat)"
   ]
  },
  {
   "cell_type": "code",
   "execution_count": 15,
   "metadata": {},
   "outputs": [],
   "source": [
    "#Saving\n",
    "df.to_feather('tmp/titanic_processed_df_tandv')"
   ]
  },
  {
   "cell_type": "code",
   "execution_count": 16,
   "metadata": {},
   "outputs": [],
   "source": [
    "#Loading\n",
    "df = pd.read_feather('tmp/titanic_processed_df_tandv')"
   ]
  },
  {
   "cell_type": "markdown",
   "metadata": {},
   "source": [
    "## Split the training set into a training and validation set"
   ]
  },
  {
   "cell_type": "code",
   "execution_count": 17,
   "metadata": {},
   "outputs": [
    {
     "data": {
      "text/plain": [
       "((791, 12), (791, 17), (791,), (100, 17), (100,))"
      ]
     },
     "execution_count": 17,
     "metadata": {},
     "output_type": "execute_result"
    }
   ],
   "source": [
    "# n_valid = 418 #same as Kaggle's test set size\n",
    "n_valid = 100 #smaller validation set to provide more training data\n",
    "n_trn = len(df)-n_valid\n",
    "raw_train, raw_valid = split_vals(df_raw, n_trn)\n",
    "x_train, x_valid = split_vals(df, n_trn)\n",
    "y_train, y_valid = split_vals(y, n_trn)\n",
    "\n",
    "raw_train.shape, x_train.shape, y_train.shape, x_valid.shape, y_valid.shape\n"
   ]
  },
  {
   "cell_type": "markdown",
   "metadata": {},
   "source": [
    "### Train the model"
   ]
  },
  {
   "cell_type": "code",
   "execution_count": 18,
   "metadata": {},
   "outputs": [
    {
     "name": "stdout",
     "output_type": "stream",
     "text": [
      "rmse train: 0.2341501094073321 Training set size: 791 \n",
      "rmse validation: 0.3247908830287935 Validation set size: 100 \n",
      "Rsquared train: 0.7688581781747871 \n",
      "RSquared valid: 0.5421479266552804\n",
      "OOB: 0.4676465561996619\n"
     ]
    }
   ],
   "source": [
    "#Training set and validation set scores\n",
    "m = RandomForestRegressor(n_estimators=n_estimators,max_features=max_features,min_samples_leaf=min_samples_leaf, n_jobs=-1, oob_score=True)\n",
    "m.fit(x_train, y_train)\n",
    "print_score(m)"
   ]
  },
  {
   "cell_type": "code",
   "execution_count": 49,
   "metadata": {},
   "outputs": [
    {
     "data": {
      "text/plain": [
       "0.9999999999999999"
      ]
     },
     "execution_count": 49,
     "metadata": {},
     "output_type": "execute_result"
    }
   ],
   "source": [
    "feature_importance = rf_feat_importance(m,x_train);\n",
    "feature_importance['imp'].sum()\n"
   ]
  },
  {
   "cell_type": "markdown",
   "metadata": {},
   "source": [
    "## Decide which variables to keep and drop"
   ]
  },
  {
   "cell_type": "code",
   "execution_count": 20,
   "metadata": {},
   "outputs": [],
   "source": [
    "to_drop = []"
   ]
  },
  {
   "cell_type": "code",
   "execution_count": 21,
   "metadata": {},
   "outputs": [],
   "source": [
    "to_keep = feature_importance[feature_importance.imp>0.01].cols\n",
    "df_keep = df[to_keep].copy()\n",
    "df_keep.drop(to_drop, axis=1, inplace=True)"
   ]
  },
  {
   "cell_type": "code",
   "execution_count": 22,
   "metadata": {},
   "outputs": [
    {
     "name": "stdout",
     "output_type": "stream",
     "text": [
      "There are 11 features left\n"
     ]
    }
   ],
   "source": [
    "np.save('tmp/keep_cols.npy', np.array(df_keep.columns))\n",
    "print(f'There are {df_keep.columns.size} features left')"
   ]
  },
  {
   "cell_type": "code",
   "execution_count": 23,
   "metadata": {},
   "outputs": [
    {
     "name": "stdout",
     "output_type": "stream",
     "text": [
      "This tree has 20 splits\n"
     ]
    }
   ],
   "source": [
    "tree=m.estimators_[0].tree_\n",
    "print(f'This tree has {dectree_max_depth(tree)} splits')"
   ]
  },
  {
   "cell_type": "markdown",
   "metadata": {},
   "source": [
    "## Test the model's output with varying hyperparameter values "
   ]
  },
  {
   "cell_type": "markdown",
   "metadata": {},
   "source": [
    "### Hyperparameters\n",
    "uncomment the code blocks below to see plots of varying hyperparameters"
   ]
  },
  {
   "cell_type": "code",
   "execution_count": 24,
   "metadata": {},
   "outputs": [],
   "source": [
    "set_rf_samples(700) # Number of passengers available to each tree \n",
    "# reset_rf_samples() # Set each tree to have access to all rows\n",
    "n_estimators = 400 # Number of trees/estimators in model\n",
    "min_samples_leaf = 3 # number remaining in each leaf node - average taken\n",
    "max_features = 0.6 # For each decision , proportion of independent variables available.\n",
    "max_n_cat = 5 # maximum number of categories to split categorical values into for one hot encoding.\n"
   ]
  },
  {
   "cell_type": "code",
   "execution_count": 25,
   "metadata": {},
   "outputs": [
    {
     "data": {
      "text/plain": [
       "[<matplotlib.lines.Line2D at 0x7fe1389a6860>]"
      ]
     },
     "execution_count": 25,
     "metadata": {},
     "output_type": "execute_result"
    },
    {
     "data": {
      "image/png": "[encoded data removed]",
      "text/plain": [
       "<Figure size 432x288 with 1 Axes>"
      ]
     },
     "metadata": {
      "needs_background": "light"
     },
     "output_type": "display_data"
    }
   ],
   "source": [
    "# n_estimators\n",
    "preds = np.stack([t.predict(x_valid) for t in m.estimators_])\n",
    "plt.plot([metrics.r2_score(y_valid, np.mean(preds[:i+1], axis=0)) for i in range(200)])\n",
    "# train the final model with 800-1000 estimators"
   ]
  },
  {
   "cell_type": "markdown",
   "metadata": {},
   "source": [
    "#### rf sample pool size\n",
    "in general increasing the points available for training increases the model's predictivity on the validation set. The model does not seem to be overfitting to the training set badly at all. \n",
    "<br>\n",
    "<b>700-800 could be a good number of rf samples</b>"
   ]
  },
  {
   "cell_type": "code",
   "execution_count": 26,
   "metadata": {},
   "outputs": [
    {
     "data": {
      "text/plain": [
       "[0, 12, 0.4, 0.7]"
      ]
     },
     "execution_count": 26,
     "metadata": {},
     "output_type": "execute_result"
    },
    {
     "data": {
      "image/png": "[encoded data removed]",
      "text/plain": [
       "<Figure size 432x288 with 1 Axes>"
      ]
     },
     "metadata": {
      "needs_background": "light"
     },
     "output_type": "display_data"
    }
   ],
   "source": [
    "def forest_prediction_samples(rf_samples):\n",
    "    set_rf_samples(rf_samples)\n",
    "    m = RandomForestRegressor(n_estimators=400, min_samples_leaf=1, n_jobs=-1, oob_score=True) \n",
    "    m.fit(x_train, y_train)\n",
    "    preds = np.stack([t.predict(x_valid) for t in m.estimators_])\n",
    "    return preds\n",
    "plt.plot([metrics.r2_score(y_valid, np.mean(forest_prediction_samples(i)[:], axis=0)) for i in range(1,891,50)])\n",
    "plt.xlabel('increasing available samples - range 1-891')\n",
    "plt.ylabel('Rsquared score on validation set')\n",
    "plt.axis([0, 12, 0.4, 0.7])"
   ]
  },
  {
   "cell_type": "markdown",
   "metadata": {},
   "source": [
    "#### minimum number of samples in each leaf node\n",
    "We should pick 2 samples per leaf. "
   ]
  },
  {
   "cell_type": "code",
   "execution_count": 27,
   "metadata": {},
   "outputs": [
    {
     "data": {
      "text/plain": [
       "Text(0, 0.5, 'Rsquared score on validation set')"
      ]
     },
     "execution_count": 27,
     "metadata": {},
     "output_type": "execute_result"
    },
    {
     "data": {
      "image/png": "[encoded data removed]",
      "text/plain": [
       "<Figure size 432x288 with 1 Axes>"
      ]
     },
     "metadata": {
      "needs_background": "light"
     },
     "output_type": "display_data"
    }
   ],
   "source": [
    "def forest_prediction_samples_leaf(min_samples_leaf):\n",
    "    m = RandomForestRegressor(n_estimators=100, min_samples_leaf=min_samples_leaf, n_jobs=-1, oob_score=True) \n",
    "    m.fit(x_train, y_train)\n",
    "    preds = np.stack([t.predict(x_valid) for t in m.estimators_])\n",
    "    return preds\n",
    "\n",
    "plt.plot([metrics.r2_score(y_valid, np.mean(forest_prediction_samples_leaf(i)[:], axis=0)) for i in range(1,5)])\n",
    "plt.xlabel('min samples per leaf node')\n",
    "plt.ylabel('Rsquared score on validation set')\n"
   ]
  },
  {
   "cell_type": "code",
   "execution_count": 28,
   "metadata": {},
   "outputs": [],
   "source": [
    "# def forest_prediction_samples_leaf(min_samples_leaf):\n",
    "#     m = RandomForestRegressor(n_estimators=40, min_samples_leaf=min_samples_leaf, n_jobs=-1, oob_score=True) \n",
    "#     m.fit(x_train, y_train)\n",
    "#     preds = np.stack([parallel_trees(m, get_preds)]) # use parallel processing to speed things up\n",
    "#     return preds\n",
    "\n",
    "# plt.plot([metrics.r2_score(y_valid, np.mean(forest_prediction_samples_leaf(i)[:], axis=0)) for i in range(1, 3)])\n",
    "# plt.xlabel('min samples per leaf node')\n",
    "# plt.ylabel('Rsquared score on validation set')\n"
   ]
  },
  {
   "cell_type": "markdown",
   "metadata": {},
   "source": [
    "#### Max features available per decision\n",
    "Use somewhere between 70% and 90% of the features per decision. "
   ]
  },
  {
   "cell_type": "code",
   "execution_count": 29,
   "metadata": {},
   "outputs": [
    {
     "data": {
      "text/plain": [
       "Text(0, 0.5, 'Rsquared score on validation set')"
      ]
     },
     "execution_count": 29,
     "metadata": {},
     "output_type": "execute_result"
    },
    {
     "data": {
      "image/png": "[encoded data removed]",
      "text/plain": [
       "<Figure size 432x288 with 1 Axes>"
      ]
     },
     "metadata": {
      "needs_background": "light"
     },
     "output_type": "display_data"
    }
   ],
   "source": [
    "def forest_prediction_max_features(max_features):\n",
    "    m = RandomForestRegressor(n_estimators=100, min_samples_leaf=2, max_features=max_features, n_jobs=-1, oob_score=True) \n",
    "    m.fit(x_train, y_train)\n",
    "    preds = np.stack([t.predict(x_valid) for t in m.estimators_])\n",
    "    return preds\n",
    "\n",
    "plt.plot([metrics.r2_score(y_valid, np.mean(forest_prediction_max_features(i)[:], axis=0)) for i in range(1, 18)])\n",
    "plt.xlabel('max features available per decision')\n",
    "plt.ylabel('Rsquared score on validation set')\n",
    "\n"
   ]
  },
  {
   "cell_type": "markdown",
   "metadata": {},
   "source": [
    "## Train a more in depth model which takes longer to run"
   ]
  },
  {
   "cell_type": "code",
   "execution_count": 30,
   "metadata": {},
   "outputs": [],
   "source": [
    "set_rf_samples(750) # Number of passengers available to each tree \n",
    "# reset_rf_samples() # Set each tree to have access to all rows\n",
    "n_estimators = 2000 # Number of trees/estimators in model\n",
    "min_samples_leaf = 3 # number remaining in each leaf node - average taken\n",
    "max_features = 0.8 # For each decision , proportion of independent variables available."
   ]
  },
  {
   "cell_type": "code",
   "execution_count": 31,
   "metadata": {},
   "outputs": [
    {
     "name": "stdout",
     "output_type": "stream",
     "text": [
      "rmse train: 0.325648522276007 Total set size: 100 \n",
      "Rsquared train: 0.5397267358483202\n",
      "OOB: 0.4651533551966224\n"
     ]
    }
   ],
   "source": [
    "m = RandomForestRegressor(n_estimators=n_estimators, min_samples_leaf=min_samples_leaf, max_features=max_features, n_jobs=-1, oob_score=True)\n",
    "m.fit(x_train, y_train)\n",
    "custom_print_score(m, x_valid, y_valid)"
   ]
  },
  {
   "cell_type": "markdown",
   "metadata": {},
   "source": [
    "## Combine the training and validation set and retrain the model\n",
    "0.54 seems to be about the highest Rsquared score I can get with a split training and validation set. Combining the training and validation sets at this point will give more sample data but will remove the validation set so we can't check the Rsquared result anymore. "
   ]
  },
  {
   "cell_type": "code",
   "execution_count": 32,
   "metadata": {},
   "outputs": [
    {
     "name": "stdout",
     "output_type": "stream",
     "text": [
      "rmse train: 0.2328328661502564 Total set size: 891 \n",
      "Rsquared train: 0.7707836850608096\n",
      "OOB: 0.4780161887597052\n"
     ]
    }
   ],
   "source": [
    "final_model = RandomForestRegressor(n_estimators=n_estimators, min_samples_leaf=min_samples_leaf, max_features=max_features, n_jobs=-1, oob_score=True)\n",
    "final_model.fit(df_keep, y)\n",
    "custom_print_score(final_model, df_keep, y)"
   ]
  },
  {
   "cell_type": "markdown",
   "metadata": {},
   "source": [
    "## Load the testset"
   ]
  },
  {
   "cell_type": "code",
   "execution_count": 33,
   "metadata": {},
   "outputs": [],
   "source": [
    "testset = pd.read_csv('data/titanic/test.csv')"
   ]
  },
  {
   "cell_type": "code",
   "execution_count": 34,
   "metadata": {},
   "outputs": [],
   "source": [
    "train_cats(testset)"
   ]
  },
  {
   "cell_type": "code",
   "execution_count": 35,
   "metadata": {},
   "outputs": [],
   "source": [
    "df_test, _ , nas_test = proc_df(testset, na_dict = nas,  max_n_cat=max_n_cat)"
   ]
  },
  {
   "cell_type": "code",
   "execution_count": 36,
   "metadata": {},
   "outputs": [
    {
     "data": {
      "text/html": [
       "<div>\n",
       "<style scoped>\n",
       "    .dataframe tbody tr th:only-of-type {\n",
       "        vertical-align: middle;\n",
       "    }\n",
       "\n",
       "    .dataframe tbody tr th {\n",
       "        vertical-align: top;\n",
       "    }\n",
       "\n",
       "    .dataframe thead th {\n",
       "        text-align: right;\n",
       "    }\n",
       "</style>\n",
       "<table border=\"1\" class=\"dataframe\">\n",
       "  <thead>\n",
       "    <tr style=\"text-align: right;\">\n",
       "      <th></th>\n",
       "      <th>Sex_male</th>\n",
       "      <th>Sex_female</th>\n",
       "      <th>Ticket</th>\n",
       "      <th>Name</th>\n",
       "      <th>Fare</th>\n",
       "      <th>Age</th>\n",
       "      <th>Pclass</th>\n",
       "      <th>PassengerId</th>\n",
       "      <th>Cabin</th>\n",
       "      <th>SibSp</th>\n",
       "      <th>Parch</th>\n",
       "    </tr>\n",
       "  </thead>\n",
       "  <tbody>\n",
       "    <tr>\n",
       "      <th>0</th>\n",
       "      <td>1</td>\n",
       "      <td>0</td>\n",
       "      <td>153</td>\n",
       "      <td>207</td>\n",
       "      <td>7.8292</td>\n",
       "      <td>34.5</td>\n",
       "      <td>3</td>\n",
       "      <td>892</td>\n",
       "      <td>0</td>\n",
       "      <td>0</td>\n",
       "      <td>0</td>\n",
       "    </tr>\n",
       "    <tr>\n",
       "      <th>1</th>\n",
       "      <td>0</td>\n",
       "      <td>1</td>\n",
       "      <td>222</td>\n",
       "      <td>404</td>\n",
       "      <td>7.0000</td>\n",
       "      <td>47.0</td>\n",
       "      <td>3</td>\n",
       "      <td>893</td>\n",
       "      <td>0</td>\n",
       "      <td>1</td>\n",
       "      <td>0</td>\n",
       "    </tr>\n",
       "    <tr>\n",
       "      <th>2</th>\n",
       "      <td>1</td>\n",
       "      <td>0</td>\n",
       "      <td>74</td>\n",
       "      <td>270</td>\n",
       "      <td>9.6875</td>\n",
       "      <td>62.0</td>\n",
       "      <td>2</td>\n",
       "      <td>894</td>\n",
       "      <td>0</td>\n",
       "      <td>0</td>\n",
       "      <td>0</td>\n",
       "    </tr>\n",
       "    <tr>\n",
       "      <th>3</th>\n",
       "      <td>1</td>\n",
       "      <td>0</td>\n",
       "      <td>148</td>\n",
       "      <td>409</td>\n",
       "      <td>8.6625</td>\n",
       "      <td>27.0</td>\n",
       "      <td>3</td>\n",
       "      <td>895</td>\n",
       "      <td>0</td>\n",
       "      <td>0</td>\n",
       "      <td>0</td>\n",
       "    </tr>\n",
       "    <tr>\n",
       "      <th>4</th>\n",
       "      <td>0</td>\n",
       "      <td>1</td>\n",
       "      <td>139</td>\n",
       "      <td>179</td>\n",
       "      <td>12.2875</td>\n",
       "      <td>22.0</td>\n",
       "      <td>3</td>\n",
       "      <td>896</td>\n",
       "      <td>0</td>\n",
       "      <td>1</td>\n",
       "      <td>1</td>\n",
       "    </tr>\n",
       "  </tbody>\n",
       "</table>\n",
       "</div>"
      ],
      "text/plain": [
       "   Sex_male  Sex_female  Ticket  Name     Fare   Age  Pclass  PassengerId  \\\n",
       "0         1           0     153   207   7.8292  34.5       3          892   \n",
       "1         0           1     222   404   7.0000  47.0       3          893   \n",
       "2         1           0      74   270   9.6875  62.0       2          894   \n",
       "3         1           0     148   409   8.6625  27.0       3          895   \n",
       "4         0           1     139   179  12.2875  22.0       3          896   \n",
       "\n",
       "   Cabin  SibSp  Parch  \n",
       "0      0      0      0  \n",
       "1      0      1      0  \n",
       "2      0      0      0  \n",
       "3      0      0      0  \n",
       "4      0      1      1  "
      ]
     },
     "execution_count": 36,
     "metadata": {},
     "output_type": "execute_result"
    }
   ],
   "source": [
    "df_test_keep = df_test[to_keep]\n",
    "df_test_keep.head()"
   ]
  },
  {
   "cell_type": "markdown",
   "metadata": {},
   "source": [
    "### Make predictions on the testset using our model"
   ]
  },
  {
   "cell_type": "code",
   "execution_count": 37,
   "metadata": {},
   "outputs": [],
   "source": [
    "predictions = final_model.predict(df_test_keep)"
   ]
  },
  {
   "cell_type": "code",
   "execution_count": 38,
   "metadata": {},
   "outputs": [
    {
     "data": {
      "text/plain": [
       "0.40723292574650244"
      ]
     },
     "execution_count": 38,
     "metadata": {},
     "output_type": "execute_result"
    }
   ],
   "source": [
    "# average predicted survival rate in the test cases\n",
    "final_model.predict(df_test_keep).sum()/len(final_model.predict(df_test_keep))"
   ]
  },
  {
   "cell_type": "code",
   "execution_count": 39,
   "metadata": {},
   "outputs": [],
   "source": [
    "binary_predictions = [int(x) for x in (predictions.round())]"
   ]
  },
  {
   "cell_type": "markdown",
   "metadata": {},
   "source": [
    "## Export the prediction data to a .CSV file"
   ]
  },
  {
   "cell_type": "code",
   "execution_count": 40,
   "metadata": {},
   "outputs": [],
   "source": [
    "output = pd.DataFrame({\"PassengerId\" :df_test_keep.index+892, \"Survived\": binary_predictions})"
   ]
  },
  {
   "cell_type": "code",
   "execution_count": 41,
   "metadata": {},
   "outputs": [
    {
     "data": {
      "text/html": [
       "<div>\n",
       "<style scoped>\n",
       "    .dataframe tbody tr th:only-of-type {\n",
       "        vertical-align: middle;\n",
       "    }\n",
       "\n",
       "    .dataframe tbody tr th {\n",
       "        vertical-align: top;\n",
       "    }\n",
       "\n",
       "    .dataframe thead th {\n",
       "        text-align: right;\n",
       "    }\n",
       "</style>\n",
       "<table border=\"1\" class=\"dataframe\">\n",
       "  <thead>\n",
       "    <tr style=\"text-align: right;\">\n",
       "      <th></th>\n",
       "      <th>PassengerId</th>\n",
       "      <th>Survived</th>\n",
       "    </tr>\n",
       "  </thead>\n",
       "  <tbody>\n",
       "    <tr>\n",
       "      <th>0</th>\n",
       "      <td>892</td>\n",
       "      <td>0</td>\n",
       "    </tr>\n",
       "    <tr>\n",
       "      <th>1</th>\n",
       "      <td>893</td>\n",
       "      <td>1</td>\n",
       "    </tr>\n",
       "    <tr>\n",
       "      <th>2</th>\n",
       "      <td>894</td>\n",
       "      <td>0</td>\n",
       "    </tr>\n",
       "    <tr>\n",
       "      <th>3</th>\n",
       "      <td>895</td>\n",
       "      <td>0</td>\n",
       "    </tr>\n",
       "    <tr>\n",
       "      <th>4</th>\n",
       "      <td>896</td>\n",
       "      <td>1</td>\n",
       "    </tr>\n",
       "    <tr>\n",
       "      <th>5</th>\n",
       "      <td>897</td>\n",
       "      <td>0</td>\n",
       "    </tr>\n",
       "    <tr>\n",
       "      <th>6</th>\n",
       "      <td>898</td>\n",
       "      <td>1</td>\n",
       "    </tr>\n",
       "    <tr>\n",
       "      <th>7</th>\n",
       "      <td>899</td>\n",
       "      <td>1</td>\n",
       "    </tr>\n",
       "    <tr>\n",
       "      <th>8</th>\n",
       "      <td>900</td>\n",
       "      <td>1</td>\n",
       "    </tr>\n",
       "    <tr>\n",
       "      <th>9</th>\n",
       "      <td>901</td>\n",
       "      <td>0</td>\n",
       "    </tr>\n",
       "  </tbody>\n",
       "</table>\n",
       "</div>"
      ],
      "text/plain": [
       "   PassengerId  Survived\n",
       "0          892         0\n",
       "1          893         1\n",
       "2          894         0\n",
       "3          895         0\n",
       "4          896         1\n",
       "5          897         0\n",
       "6          898         1\n",
       "7          899         1\n",
       "8          900         1\n",
       "9          901         0"
      ]
     },
     "execution_count": 41,
     "metadata": {},
     "output_type": "execute_result"
    }
   ],
   "source": [
    "output.head(10)"
   ]
  },
  {
   "cell_type": "code",
   "execution_count": 42,
   "metadata": {},
   "outputs": [
    {
     "name": "stdout",
     "output_type": "stream",
     "text": [
      "Saved\n"
     ]
    }
   ],
   "source": [
    "output.to_csv('fourth_titanic_submission.csv', index=False)\n",
    "print(\"Saved\")"
   ]
  }
 ],
 "metadata": {
  "kernelspec": {
   "display_name": "Python 3",
   "language": "python",
   "name": "python3"
  },
  "language_info": {
   "codemirror_mode": {
    "name": "ipython",
    "version": 3
   },
   "file_extension": ".py",
   "mimetype": "text/x-python",
   "name": "python",
   "nbconvert_exporter": "python",
   "pygments_lexer": "ipython3",
   "version": "3.6.9"
  }
 },
 "nbformat": 4,
 "nbformat_minor": 2
}
